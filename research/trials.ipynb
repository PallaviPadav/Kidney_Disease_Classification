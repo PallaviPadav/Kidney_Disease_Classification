{
 "cells": [
  {
   "cell_type": "code",
   "execution_count": 1,
   "metadata": {},
   "outputs": [],
   "source": [
    "import gdown"
   ]
  },
  {
   "cell_type": "code",
   "execution_count": 2,
   "metadata": {},
   "outputs": [],
   "source": [
    "url=\"https://drive.google.com/file/d/1vlhZ5c7abUKF8xXERIw6m9Te8fW7ohw3/view?usp=sharing\""
   ]
  },
  {
   "cell_type": "code",
   "execution_count": 3,
   "metadata": {},
   "outputs": [
    {
     "data": {
      "text/plain": [
       "'1vlhZ5c7abUKF8xXERIw6m9Te8fW7ohw3'"
      ]
     },
     "execution_count": 3,
     "metadata": {},
     "output_type": "execute_result"
    }
   ],
   "source": [
    "file_id = url.split(\"/\")[-2]\n",
    "file_id"
   ]
  },
  {
   "cell_type": "code",
   "execution_count": 4,
   "metadata": {},
   "outputs": [
    {
     "name": "stderr",
     "output_type": "stream",
     "text": [
      "Downloading...\n",
      "From (original): https://drive.google.com/uc?/export=download&id=1vlhZ5c7abUKF8xXERIw6m9Te8fW7ohw3\n",
      "From (redirected): https://drive.google.com/uc?%2Fexport=download&id=1vlhZ5c7abUKF8xXERIw6m9Te8fW7ohw3&confirm=t&uuid=dbbc5881-1ebc-4432-862f-8c3f1c35496a\n",
      "To: f:\\End_to_End\\Kidney_Disease_Classification\\research\\kidney-CT-Scan-data.zip\n",
      "100%|██████████| 57.7M/57.7M [00:17<00:00, 3.39MB/s]\n"
     ]
    },
    {
     "data": {
      "text/plain": [
       "'kidney-CT-Scan-data.zip'"
      ]
     },
     "execution_count": 4,
     "metadata": {},
     "output_type": "execute_result"
    }
   ],
   "source": [
    "prefix = 'https://drive.google.com/uc?/export=download&id='\n",
    "gdown.download(prefix+file_id, \"kidney-CT-Scan-data.zip\")"
   ]
  },
  {
   "cell_type": "code",
   "execution_count": 8,
   "metadata": {},
   "outputs": [
    {
     "data": {
      "text/html": [
       "<pre style=\"white-space:pre;overflow-x:auto;line-height:normal;font-family:Menlo,'DejaVu Sans Mono',consolas,'Courier New',monospace\">Initialized MLflow to track repo <span style=\"color: #008000; text-decoration-color: #008000\">\"PallaviPadav/Kidney_Disease_Classification\"</span>\n",
       "</pre>\n"
      ],
      "text/plain": [
       "Initialized MLflow to track repo \u001b[32m\"PallaviPadav/Kidney_Disease_Classification\"\u001b[0m\n"
      ]
     },
     "metadata": {},
     "output_type": "display_data"
    },
    {
     "data": {
      "text/html": [
       "<pre style=\"white-space:pre;overflow-x:auto;line-height:normal;font-family:Menlo,'DejaVu Sans Mono',consolas,'Courier New',monospace\">Repository PallaviPadav/Kidney_Disease_Classification initialized!\n",
       "</pre>\n"
      ],
      "text/plain": [
       "Repository PallaviPadav/Kidney_Disease_Classification initialized!\n"
      ]
     },
     "metadata": {},
     "output_type": "display_data"
    }
   ],
   "source": [
    "import dagshub\n",
    "dagshub.init(repo_owner='PallaviPadav', repo_name='Kidney_Disease_Classification', mlflow=True)\n",
    "\n",
    "import mlflow\n",
    "with mlflow.start_run():\n",
    "  mlflow.log_param('parameter name', 'value')\n",
    "  mlflow.log_metric('metric name', 1)"
   ]
  },
  {
   "cell_type": "code",
   "execution_count": 6,
   "metadata": {},
   "outputs": [
    {
     "name": "stdout",
     "output_type": "stream",
     "text": [
      "Collecting dagshub\n",
      "  Downloading dagshub-0.3.28-py3-none-any.whl.metadata (11 kB)\n",
      "Requirement already satisfied: PyYAML>=5 in c:\\users\\dell\\appdata\\local\\programs\\python\\python311\\lib\\site-packages (from dagshub) (6.0.1)\n",
      "Collecting fusepy>=3 (from dagshub)\n",
      "  Downloading fusepy-3.0.1.tar.gz (11 kB)\n",
      "  Preparing metadata (setup.py): started\n",
      "  Preparing metadata (setup.py): finished with status 'done'\n",
      "Requirement already satisfied: appdirs>=1.4.4 in c:\\users\\dell\\appdata\\local\\programs\\python\\python311\\lib\\site-packages (from dagshub) (1.4.4)\n",
      "Requirement already satisfied: click>=8.0.4 in c:\\users\\dell\\appdata\\local\\programs\\python\\python311\\lib\\site-packages (from dagshub) (8.1.7)\n",
      "Collecting httpx~=0.23.0 (from dagshub)\n",
      "  Downloading httpx-0.23.3-py3-none-any.whl.metadata (7.1 kB)\n",
      "Requirement already satisfied: GitPython>=3.1.29 in c:\\users\\dell\\appdata\\local\\programs\\python\\python311\\lib\\site-packages (from dagshub) (3.1.43)\n",
      "Collecting rich~=13.1.0 (from dagshub)\n",
      "  Downloading rich-13.1.0-py3-none-any.whl.metadata (18 kB)\n",
      "Collecting dacite~=1.6.0 (from dagshub)\n",
      "  Downloading dacite-1.6.0-py3-none-any.whl.metadata (14 kB)\n",
      "Requirement already satisfied: tenacity~=8.2.2 in c:\\users\\dell\\appdata\\local\\programs\\python\\python311\\lib\\site-packages (from dagshub) (8.2.3)\n",
      "Collecting gql[requests] (from dagshub)\n",
      "  Downloading gql-3.5.0-py2.py3-none-any.whl.metadata (9.2 kB)\n",
      "Requirement already satisfied: dataclasses-json in c:\\users\\dell\\appdata\\local\\programs\\python\\python311\\lib\\site-packages (from dagshub) (0.6.4)\n",
      "Requirement already satisfied: pandas in c:\\users\\dell\\appdata\\local\\programs\\python\\python311\\lib\\site-packages (from dagshub) (2.2.2)\n",
      "Collecting treelib~=1.6.4 (from dagshub)\n",
      "  Downloading treelib-1.6.4-py3-none-any.whl.metadata (1.4 kB)\n",
      "Collecting pathvalidate~=3.0.0 (from dagshub)\n",
      "  Downloading pathvalidate-3.0.0-py3-none-any.whl.metadata (11 kB)\n",
      "Requirement already satisfied: python-dateutil in c:\\users\\dell\\appdata\\roaming\\python\\python311\\site-packages (from dagshub) (2.9.0.post0)\n",
      "Collecting boto3 (from dagshub)\n",
      "  Downloading boto3-1.34.125-py3-none-any.whl.metadata (6.6 kB)\n",
      "Requirement already satisfied: colorama in c:\\users\\dell\\appdata\\roaming\\python\\python311\\site-packages (from click>=8.0.4->dagshub) (0.4.6)\n",
      "Requirement already satisfied: gitdb<5,>=4.0.1 in c:\\users\\dell\\appdata\\local\\programs\\python\\python311\\lib\\site-packages (from GitPython>=3.1.29->dagshub) (4.0.11)\n",
      "Requirement already satisfied: certifi in c:\\users\\dell\\appdata\\local\\programs\\python\\python311\\lib\\site-packages (from httpx~=0.23.0->dagshub) (2024.2.2)\n",
      "Collecting httpcore<0.17.0,>=0.15.0 (from httpx~=0.23.0->dagshub)\n",
      "  Downloading httpcore-0.16.3-py3-none-any.whl.metadata (16 kB)\n",
      "Collecting rfc3986<2,>=1.3 (from rfc3986[idna2008]<2,>=1.3->httpx~=0.23.0->dagshub)\n",
      "  Downloading rfc3986-1.5.0-py2.py3-none-any.whl.metadata (6.5 kB)\n",
      "Requirement already satisfied: sniffio in c:\\users\\dell\\appdata\\local\\programs\\python\\python311\\lib\\site-packages (from httpx~=0.23.0->dagshub) (1.3.1)\n",
      "Collecting commonmark<0.10.0,>=0.9.0 (from rich~=13.1.0->dagshub)\n",
      "  Downloading commonmark-0.9.1-py2.py3-none-any.whl.metadata (5.7 kB)\n",
      "Requirement already satisfied: pygments<3.0.0,>=2.6.0 in c:\\users\\dell\\appdata\\roaming\\python\\python311\\site-packages (from rich~=13.1.0->dagshub) (2.17.2)\n",
      "Requirement already satisfied: six in c:\\users\\dell\\appdata\\roaming\\python\\python311\\site-packages (from treelib~=1.6.4->dagshub) (1.16.0)\n",
      "Collecting botocore<1.35.0,>=1.34.125 (from boto3->dagshub)\n",
      "  Downloading botocore-1.34.125-py3-none-any.whl.metadata (5.7 kB)\n",
      "Collecting jmespath<2.0.0,>=0.7.1 (from boto3->dagshub)\n",
      "  Downloading jmespath-1.0.1-py3-none-any.whl.metadata (7.6 kB)\n",
      "Collecting s3transfer<0.11.0,>=0.10.0 (from boto3->dagshub)\n",
      "  Downloading s3transfer-0.10.1-py3-none-any.whl.metadata (1.7 kB)\n",
      "Requirement already satisfied: marshmallow<4.0.0,>=3.18.0 in c:\\users\\dell\\appdata\\local\\programs\\python\\python311\\lib\\site-packages (from dataclasses-json->dagshub) (3.21.0)\n",
      "Requirement already satisfied: typing-inspect<1,>=0.4.0 in c:\\users\\dell\\appdata\\local\\programs\\python\\python311\\lib\\site-packages (from dataclasses-json->dagshub) (0.9.0)\n",
      "Collecting graphql-core<3.3,>=3.2 (from gql[requests]->dagshub)\n",
      "  Downloading graphql_core-3.2.3-py3-none-any.whl.metadata (10 kB)\n",
      "Requirement already satisfied: yarl<2.0,>=1.6 in c:\\users\\dell\\appdata\\local\\programs\\python\\python311\\lib\\site-packages (from gql[requests]->dagshub) (1.9.4)\n",
      "Collecting backoff<3.0,>=1.11.1 (from gql[requests]->dagshub)\n",
      "  Downloading backoff-2.2.1-py3-none-any.whl.metadata (14 kB)\n",
      "Requirement already satisfied: anyio<5,>=3.0 in c:\\users\\dell\\appdata\\local\\programs\\python\\python311\\lib\\site-packages (from gql[requests]->dagshub) (4.3.0)\n",
      "Requirement already satisfied: requests<3,>=2.26 in c:\\users\\dell\\appdata\\local\\programs\\python\\python311\\lib\\site-packages (from gql[requests]->dagshub) (2.31.0)\n",
      "Collecting requests-toolbelt<2,>=1.0.0 (from gql[requests]->dagshub)\n",
      "  Downloading requests_toolbelt-1.0.0-py2.py3-none-any.whl.metadata (14 kB)\n",
      "Requirement already satisfied: numpy>=1.23.2 in c:\\users\\dell\\appdata\\local\\programs\\python\\python311\\lib\\site-packages (from pandas->dagshub) (1.23.5)\n",
      "Requirement already satisfied: pytz>=2020.1 in c:\\users\\dell\\appdata\\local\\programs\\python\\python311\\lib\\site-packages (from pandas->dagshub) (2022.7.1)\n",
      "Requirement already satisfied: tzdata>=2022.7 in c:\\users\\dell\\appdata\\local\\programs\\python\\python311\\lib\\site-packages (from pandas->dagshub) (2024.1)\n",
      "Requirement already satisfied: idna>=2.8 in c:\\users\\dell\\appdata\\local\\programs\\python\\python311\\lib\\site-packages (from anyio<5,>=3.0->gql[requests]->dagshub) (3.6)\n",
      "Requirement already satisfied: urllib3!=2.2.0,<3,>=1.25.4 in c:\\users\\dell\\appdata\\local\\programs\\python\\python311\\lib\\site-packages (from botocore<1.35.0,>=1.34.125->boto3->dagshub) (2.2.1)\n",
      "Requirement already satisfied: smmap<6,>=3.0.1 in c:\\users\\dell\\appdata\\local\\programs\\python\\python311\\lib\\site-packages (from gitdb<5,>=4.0.1->GitPython>=3.1.29->dagshub) (5.0.1)\n",
      "Requirement already satisfied: h11<0.15,>=0.13 in c:\\users\\dell\\appdata\\local\\programs\\python\\python311\\lib\\site-packages (from httpcore<0.17.0,>=0.15.0->httpx~=0.23.0->dagshub) (0.14.0)\n",
      "Requirement already satisfied: packaging>=17.0 in c:\\users\\dell\\appdata\\roaming\\python\\python311\\site-packages (from marshmallow<4.0.0,>=3.18.0->dataclasses-json->dagshub) (23.2)\n",
      "Requirement already satisfied: charset-normalizer<4,>=2 in c:\\users\\dell\\appdata\\local\\programs\\python\\python311\\lib\\site-packages (from requests<3,>=2.26->gql[requests]->dagshub) (3.3.2)\n",
      "Requirement already satisfied: mypy-extensions>=0.3.0 in c:\\users\\dell\\appdata\\local\\programs\\python\\python311\\lib\\site-packages (from typing-inspect<1,>=0.4.0->dataclasses-json->dagshub) (1.0.0)\n",
      "Requirement already satisfied: typing-extensions>=3.7.4 in c:\\users\\dell\\appdata\\local\\programs\\python\\python311\\lib\\site-packages (from typing-inspect<1,>=0.4.0->dataclasses-json->dagshub) (4.10.0)\n",
      "Requirement already satisfied: multidict>=4.0 in c:\\users\\dell\\appdata\\local\\programs\\python\\python311\\lib\\site-packages (from yarl<2.0,>=1.6->gql[requests]->dagshub) (6.0.5)\n",
      "Downloading dagshub-0.3.28-py3-none-any.whl (233 kB)\n",
      "   ---------------------------------------- 0.0/233.7 kB ? eta -:--:--\n",
      "   --------------------------------- ------ 194.6/233.7 kB 5.9 MB/s eta 0:00:01\n",
      "   ---------------------------------------- 233.7/233.7 kB 4.8 MB/s eta 0:00:00\n",
      "Downloading dacite-1.6.0-py3-none-any.whl (12 kB)\n",
      "Downloading httpx-0.23.3-py3-none-any.whl (71 kB)\n",
      "   ---------------------------------------- 0.0/71.5 kB ? eta -:--:--\n",
      "   ---------------------------------------- 71.5/71.5 kB 3.8 MB/s eta 0:00:00\n",
      "Downloading pathvalidate-3.0.0-py3-none-any.whl (21 kB)\n",
      "Downloading rich-13.1.0-py3-none-any.whl (238 kB)\n",
      "   ---------------------------------------- 0.0/238.4 kB ? eta -:--:--\n",
      "   ---------------------------------------- 238.4/238.4 kB 7.4 MB/s eta 0:00:00\n",
      "Downloading treelib-1.6.4-py3-none-any.whl (18 kB)\n",
      "Downloading boto3-1.34.125-py3-none-any.whl (139 kB)\n",
      "   ---------------------------------------- 0.0/139.2 kB ? eta -:--:--\n",
      "   ---------------------------------------- 139.2/139.2 kB 8.1 MB/s eta 0:00:00\n",
      "Downloading backoff-2.2.1-py3-none-any.whl (15 kB)\n",
      "Downloading botocore-1.34.125-py3-none-any.whl (12.3 MB)\n",
      "   ---------------------------------------- 0.0/12.3 MB ? eta -:--:--\n",
      "   - -------------------------------------- 0.6/12.3 MB 12.2 MB/s eta 0:00:01\n",
      "   -- ------------------------------------- 0.7/12.3 MB 9.2 MB/s eta 0:00:02\n",
      "   --- ------------------------------------ 0.9/12.3 MB 7.4 MB/s eta 0:00:02\n",
      "   --- ------------------------------------ 0.9/12.3 MB 7.4 MB/s eta 0:00:02\n",
      "   --- ------------------------------------ 0.9/12.3 MB 7.4 MB/s eta 0:00:02\n",
      "   --- ------------------------------------ 1.0/12.3 MB 3.7 MB/s eta 0:00:04\n",
      "   --- ------------------------------------ 1.0/12.3 MB 3.8 MB/s eta 0:00:03\n",
      "   --- ------------------------------------ 1.0/12.3 MB 3.8 MB/s eta 0:00:03\n",
      "   ----- ---------------------------------- 1.8/12.3 MB 4.5 MB/s eta 0:00:03\n",
      "   ------ --------------------------------- 2.0/12.3 MB 4.4 MB/s eta 0:00:03\n",
      "   ------- -------------------------------- 2.2/12.3 MB 4.4 MB/s eta 0:00:03\n",
      "   ------- -------------------------------- 2.4/12.3 MB 4.3 MB/s eta 0:00:03\n",
      "   -------- ------------------------------- 2.5/12.3 MB 4.3 MB/s eta 0:00:03\n",
      "   -------- ------------------------------- 2.6/12.3 MB 4.3 MB/s eta 0:00:03\n",
      "   -------- ------------------------------- 2.6/12.3 MB 4.3 MB/s eta 0:00:03\n",
      "   -------- ------------------------------- 2.6/12.3 MB 4.3 MB/s eta 0:00:03\n",
      "   --------- ------------------------------ 2.8/12.3 MB 3.7 MB/s eta 0:00:03\n",
      "   ---------- ----------------------------- 3.1/12.3 MB 3.8 MB/s eta 0:00:03\n",
      "   ---------- ----------------------------- 3.3/12.3 MB 3.7 MB/s eta 0:00:03\n",
      "   ----------- ---------------------------- 3.4/12.3 MB 3.8 MB/s eta 0:00:03\n",
      "   ----------- ---------------------------- 3.6/12.3 MB 3.8 MB/s eta 0:00:03\n",
      "   ------------ --------------------------- 3.8/12.3 MB 3.8 MB/s eta 0:00:03\n",
      "   ------------ --------------------------- 4.0/12.3 MB 3.8 MB/s eta 0:00:03\n",
      "   ------------- -------------------------- 4.1/12.3 MB 3.8 MB/s eta 0:00:03\n",
      "   ------------- -------------------------- 4.1/12.3 MB 3.8 MB/s eta 0:00:03\n",
      "   ------------- -------------------------- 4.1/12.3 MB 3.8 MB/s eta 0:00:03\n",
      "   -------------- ------------------------- 4.4/12.3 MB 3.5 MB/s eta 0:00:03\n",
      "   --------------- ------------------------ 4.9/12.3 MB 3.8 MB/s eta 0:00:02\n",
      "   ---------------- ----------------------- 5.0/12.3 MB 3.8 MB/s eta 0:00:02\n",
      "   ----------------- ---------------------- 5.2/12.3 MB 3.8 MB/s eta 0:00:02\n",
      "   ----------------- ---------------------- 5.4/12.3 MB 3.8 MB/s eta 0:00:02\n",
      "   ------------------ --------------------- 5.6/12.3 MB 3.8 MB/s eta 0:00:02\n",
      "   ------------------ --------------------- 5.8/12.3 MB 3.8 MB/s eta 0:00:02\n",
      "   ------------------- -------------------- 5.9/12.3 MB 3.8 MB/s eta 0:00:02\n",
      "   ------------------- -------------------- 6.1/12.3 MB 3.8 MB/s eta 0:00:02\n",
      "   -------------------- ------------------- 6.3/12.3 MB 3.8 MB/s eta 0:00:02\n",
      "   --------------------- ------------------ 6.5/12.3 MB 3.8 MB/s eta 0:00:02\n",
      "   --------------------- ------------------ 6.7/12.3 MB 3.8 MB/s eta 0:00:02\n",
      "   ---------------------- ----------------- 6.9/12.3 MB 3.8 MB/s eta 0:00:02\n",
      "   ---------------------- ----------------- 7.0/12.3 MB 3.8 MB/s eta 0:00:02\n",
      "   ----------------------- ---------------- 7.2/12.3 MB 3.8 MB/s eta 0:00:02\n",
      "   ----------------------- ---------------- 7.4/12.3 MB 3.8 MB/s eta 0:00:02\n",
      "   ------------------------ --------------- 7.6/12.3 MB 3.8 MB/s eta 0:00:02\n",
      "   ------------------------- -------------- 7.7/12.3 MB 3.8 MB/s eta 0:00:02\n",
      "   ------------------------- -------------- 7.9/12.3 MB 3.8 MB/s eta 0:00:02\n",
      "   -------------------------- ------------- 8.1/12.3 MB 3.8 MB/s eta 0:00:02\n",
      "   -------------------------- ------------- 8.3/12.3 MB 3.8 MB/s eta 0:00:02\n",
      "   --------------------------- ------------ 8.5/12.3 MB 3.8 MB/s eta 0:00:01\n",
      "   ---------------------------- ----------- 8.7/12.3 MB 3.8 MB/s eta 0:00:01\n",
      "   ---------------------------- ----------- 8.8/12.3 MB 3.8 MB/s eta 0:00:01\n",
      "   ----------------------------- ---------- 9.0/12.3 MB 3.8 MB/s eta 0:00:01\n",
      "   ----------------------------- ---------- 9.2/12.3 MB 3.8 MB/s eta 0:00:01\n",
      "   ------------------------------ --------- 9.4/12.3 MB 3.8 MB/s eta 0:00:01\n",
      "   ------------------------------- -------- 9.6/12.3 MB 3.8 MB/s eta 0:00:01\n",
      "   ------------------------------- -------- 9.7/12.3 MB 3.8 MB/s eta 0:00:01\n",
      "   -------------------------------- ------- 9.9/12.3 MB 3.8 MB/s eta 0:00:01\n",
      "   -------------------------------- ------- 10.1/12.3 MB 3.8 MB/s eta 0:00:01\n",
      "   --------------------------------- ------ 10.3/12.3 MB 3.8 MB/s eta 0:00:01\n",
      "   ---------------------------------- ----- 10.5/12.3 MB 3.8 MB/s eta 0:00:01\n",
      "   ---------------------------------- ----- 10.6/12.3 MB 3.7 MB/s eta 0:00:01\n",
      "   ----------------------------------- ---- 10.8/12.3 MB 3.7 MB/s eta 0:00:01\n",
      "   ----------------------------------- ---- 11.0/12.3 MB 3.7 MB/s eta 0:00:01\n",
      "   ------------------------------------ --- 11.2/12.3 MB 3.9 MB/s eta 0:00:01\n",
      "   ------------------------------------ --- 11.4/12.3 MB 4.0 MB/s eta 0:00:01\n",
      "   ------------------------------------- -- 11.6/12.3 MB 3.9 MB/s eta 0:00:01\n",
      "   -------------------------------------- - 11.7/12.3 MB 3.9 MB/s eta 0:00:01\n",
      "   -------------------------------------- - 11.9/12.3 MB 3.8 MB/s eta 0:00:01\n",
      "   ---------------------------------------  12.1/12.3 MB 3.7 MB/s eta 0:00:01\n",
      "   ---------------------------------------  12.3/12.3 MB 3.8 MB/s eta 0:00:01\n",
      "   ---------------------------------------  12.3/12.3 MB 3.8 MB/s eta 0:00:01\n",
      "   ---------------------------------------  12.3/12.3 MB 3.8 MB/s eta 0:00:01\n",
      "   ---------------------------------------  12.3/12.3 MB 3.8 MB/s eta 0:00:01\n",
      "   ---------------------------------------- 12.3/12.3 MB 3.6 MB/s eta 0:00:00\n",
      "Downloading commonmark-0.9.1-py2.py3-none-any.whl (51 kB)\n",
      "   ---------------------------------------- 0.0/51.1 kB ? eta -:--:--\n",
      "   ---------------------------------------- 51.1/51.1 kB 1.3 MB/s eta 0:00:00\n",
      "Downloading graphql_core-3.2.3-py3-none-any.whl (202 kB)\n",
      "   ---------------------------------------- 0.0/202.9 kB ? eta -:--:--\n",
      "   --------------------------------------- 202.9/202.9 kB 12.0 MB/s eta 0:00:00\n",
      "Downloading httpcore-0.16.3-py3-none-any.whl (69 kB)\n",
      "   ---------------------------------------- 0.0/69.6 kB ? eta -:--:--\n",
      "   ---------------------------------------- 69.6/69.6 kB ? eta 0:00:00\n",
      "Downloading jmespath-1.0.1-py3-none-any.whl (20 kB)\n",
      "Downloading requests_toolbelt-1.0.0-py2.py3-none-any.whl (54 kB)\n",
      "   ---------------------------------------- 0.0/54.5 kB ? eta -:--:--\n",
      "   ---------------------------------------- 54.5/54.5 kB 2.8 MB/s eta 0:00:00\n",
      "Downloading rfc3986-1.5.0-py2.py3-none-any.whl (31 kB)\n",
      "Downloading s3transfer-0.10.1-py3-none-any.whl (82 kB)\n",
      "   ---------------------------------------- 0.0/82.2 kB ? eta -:--:--\n",
      "   ---------------------------------------- 82.2/82.2 kB ? eta 0:00:00\n",
      "Downloading gql-3.5.0-py2.py3-none-any.whl (74 kB)\n",
      "   ---------------------------------------- 0.0/74.0 kB ? eta -:--:--\n",
      "   ---------------------------------------- 74.0/74.0 kB 4.0 MB/s eta 0:00:00\n",
      "Building wheels for collected packages: fusepy\n",
      "  Building wheel for fusepy (setup.py): started\n",
      "  Building wheel for fusepy (setup.py): finished with status 'done'\n",
      "  Created wheel for fusepy: filename=fusepy-3.0.1-py3-none-any.whl size=10502 sha256=5c9f306f88cf632f778f8d7fe0447a36fc844aac9454672487ce61dcd19e684a\n",
      "  Stored in directory: c:\\users\\dell\\appdata\\local\\pip\\cache\\wheels\\db\\4a\\86\\fdda91f8b8ebb0a70e4181dc2423b1f70c3c2d3bd1158685b5\n",
      "Successfully built fusepy\n",
      "Installing collected packages: rfc3986, fusepy, commonmark, treelib, rich, pathvalidate, jmespath, graphql-core, dacite, backoff, requests-toolbelt, httpcore, gql, botocore, s3transfer, httpx, boto3, dagshub\n",
      "  Attempting uninstall: rich\n",
      "    Found existing installation: rich 13.7.1\n",
      "    Uninstalling rich-13.7.1:\n",
      "      Successfully uninstalled rich-13.7.1\n",
      "  Attempting uninstall: httpcore\n",
      "    Found existing installation: httpcore 1.0.5\n",
      "    Uninstalling httpcore-1.0.5:\n",
      "      Successfully uninstalled httpcore-1.0.5\n",
      "  Attempting uninstall: httpx\n",
      "    Found existing installation: httpx 0.27.0\n",
      "    Uninstalling httpx-0.27.0:\n",
      "      Successfully uninstalled httpx-0.27.0\n",
      "Successfully installed backoff-2.2.1 boto3-1.34.125 botocore-1.34.125 commonmark-0.9.1 dacite-1.6.0 dagshub-0.3.28 fusepy-3.0.1 gql-3.5.0 graphql-core-3.2.3 httpcore-0.16.3 httpx-0.23.3 jmespath-1.0.1 pathvalidate-3.0.0 requests-toolbelt-1.0.0 rfc3986-1.5.0 rich-13.1.0 s3transfer-0.10.1 treelib-1.6.4\n",
      "Note: you may need to restart the kernel to use updated packages.\n"
     ]
    },
    {
     "name": "stderr",
     "output_type": "stream",
     "text": [
      "ERROR: pip's dependency resolver does not currently take into account all the packages that are installed. This behaviour is the source of the following dependency conflicts.\n",
      "jupyterlab 4.1.6 requires httpx>=0.25.0, but you have httpx 0.23.3 which is incompatible.\n"
     ]
    }
   ],
   "source": [
    "pip install dagshub"
   ]
  }
 ],
 "metadata": {
  "kernelspec": {
   "display_name": "Python 3",
   "language": "python",
   "name": "python3"
  },
  "language_info": {
   "codemirror_mode": {
    "name": "ipython",
    "version": 3
   },
   "file_extension": ".py",
   "mimetype": "text/x-python",
   "name": "python",
   "nbconvert_exporter": "python",
   "pygments_lexer": "ipython3",
   "version": "3.11.1"
  }
 },
 "nbformat": 4,
 "nbformat_minor": 2
}
